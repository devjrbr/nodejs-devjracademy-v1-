{
 "cells": [
  {
   "attachments": {},
   "cell_type": "markdown",
   "metadata": {},
   "source": [
    "## Exemplo de condicional em Node.js\n",
    "\n",
    "Operadores de comparação: Node.js oferece operadores de comparação para comparar valores. Alguns exemplos são:\n",
    "\n",
    "* ==   (igual a): verifica se dois valores são iguais.\n",
    "* !=   (diferente de): verifica se dois valores são diferentes.\n",
    "* &gt; (maior que): verifica se um valor é maior que outro.\n",
    "* &lt; (menor que): verifica se um valor é menor que outro.\n",
    "* &ge; (maior ou igual a): verifica se um valor é maior ou igual a outro.\n",
    "<= (menor ou igual a): verifica se um valor é menor ou igual a outro.\n",
    "\n",
    "Vamos considerar o seguinte código em Node.js:\n",
    "\n",
    "```javascript\n"
   ]
  },
  {
   "attachments": {},
   "cell_type": "markdown",
   "metadata": {},
   "source": [
    "Exemplo de condicional 'if'"
   ]
  },
  {
   "cell_type": "code",
   "execution_count": 5,
   "metadata": {},
   "outputs": [],
   "source": [
    "let idade = 18; // declarando uma variável idade com o valor 18"
   ]
  },
  {
   "cell_type": "code",
   "execution_count": 34,
   "metadata": {},
   "outputs": [
    {
     "name": "stdout",
     "output_type": "stream",
     "text": [
      "Você é maior de idade.\n"
     ]
    }
   ],
   "source": [
    "idade = 19;\n",
    "\n",
    "if (idade >= 18) { // SE\n",
    "    console.log(\"Você é maior de idade.\");\n",
    "} else { // SENÃO\n",
    "    console.log(\"Você é menor de idade.\");\n",
    "}"
   ]
  },
  {
   "attachments": {},
   "cell_type": "markdown",
   "metadata": {},
   "source": [
    "Exemplo de condicional 'if-else'"
   ]
  },
  {
   "cell_type": "code",
   "execution_count": 1,
   "metadata": {},
   "outputs": [],
   "source": [
    "let nota = 10; // declarando uma variável nota com o valor 10"
   ]
  },
  {
   "cell_type": "code",
   "execution_count": 41,
   "metadata": {},
   "outputs": [
    {
     "name": "stdout",
     "output_type": "stream",
     "text": [
      "Você tirou uma nota excelente!\n"
     ]
    }
   ],
   "source": [
    "nota = 9; // atribuindo o valor 10 para a variável nota\n",
    "\n",
    "if (nota >= 9) {\n",
    "    console.log(\"Você tirou uma nota excelente!\");\n",
    "} else if (nota >= 7) {\n",
    "    console.log(\"Você foi aprovado!\");\n",
    "} else if (nota >= 5) {\n",
    "    console.log(\"Você está em recuperação.\");\n",
    "} else {\n",
    "    console.log(\"Você foi reprovado.\");\n",
    "}\n"
   ]
  },
  {
   "attachments": {},
   "cell_type": "markdown",
   "metadata": {},
   "source": [
    "Exemplo de condicional 'switch'"
   ]
  },
  {
   "cell_type": "code",
   "execution_count": 37,
   "metadata": {},
   "outputs": [
    {
     "ename": "SyntaxError",
     "evalue": "Identifier 'diaSemana' has already been declared",
     "output_type": "error",
     "traceback": [
      "evalmachine.<anonymous>:1",
      "let diaSemana = 1;",
      "^",
      "",
      "SyntaxError: Identifier 'diaSemana' has already been declared",
      "    at Script.runInThisContext (node:vm:122:12)",
      "    at Object.runInThisContext (node:vm:298:38)",
      "    at run ([eval]:1020:15)",
      "    at onRunRequest ([eval]:864:18)",
      "    at onMessage ([eval]:828:13)",
      "    at process.emit (node:events:511:28)",
      "    at emit (node:internal/child_process:944:14)",
      "    at process.processTicksAndRejections (node:internal/process/task_queues:83:21)"
     ]
    }
   ],
   "source": [
    "let diaSemana = 1;\n",
    "let nomeDia;"
   ]
  },
  {
   "cell_type": "code",
   "execution_count": 52,
   "metadata": {},
   "outputs": [
    {
     "name": "stdout",
     "output_type": "stream",
     "text": [
      "Dia inválido!\n"
     ]
    }
   ],
   "source": [
    "diaSemana = 20;\n",
    "switch (diaSemana) {\n",
    "    case 1:\n",
    "      nomeDia = \"Domingo\";\n",
    "      break;\n",
    "    case 2:\n",
    "      nomeDia = \"Segunda-feira\";\n",
    "      break;\n",
    "    case 3:\n",
    "      nomeDia = \"Terça-feira\";\n",
    "      break;\n",
    "    case 4:\n",
    "      nomeDia = \"Quarta-feira\";\n",
    "      break;\n",
    "    case 5:\n",
    "      nomeDia = \"Quinta-feira\";\n",
    "      break;\n",
    "    case 6:\n",
    "      nomeDia = \"Sexta-feira\";\n",
    "      break;\n",
    "    case 7:\n",
    "      nomeDia = \"Sábado\";\n",
    "      break;\n",
    "    default:\n",
    "      nomeDia = \"Dia inválido!\";\n",
    "}\n",
    "\n",
    "console.log(nomeDia); \n"
   ]
  },
  {
   "attachments": {},
   "cell_type": "markdown",
   "metadata": {},
   "source": [
    "Exemplo de operador ternário"
   ]
  },
  {
   "cell_type": "code",
   "execution_count": 11,
   "metadata": {},
   "outputs": [],
   "source": [
    "let numero = 10;\n",
    "let resultado = numero % 2 === 0 ? \"par\" : \"ímpar\";\n",
    "// resultado = condição ? valor se verdadeiro : valor se falso\n",
    "\n",
    "if (numero % 2 === 0){\n",
    "    resultado = \"par\";\n",
    "} else {\n",
    "    resultado = \"ímpar\";\n",
    "}\n",
    "\n"
   ]
  },
  {
   "cell_type": "code",
   "execution_count": 12,
   "metadata": {},
   "outputs": [
    {
     "name": "stdout",
     "output_type": "stream",
     "text": [
      "O número é par.\n"
     ]
    }
   ],
   "source": [
    "console.log(`O número é ${resultado}.`);"
   ]
  },
  {
   "attachments": {},
   "cell_type": "markdown",
   "metadata": {},
   "source": [
    "Exemplo de operador lógico &&  (AND lógico) "
   ]
  },
  {
   "cell_type": "code",
   "execution_count": 13,
   "metadata": {},
   "outputs": [],
   "source": [
    "let nome = \"João\";\n",
    "let idadeUsuario = 25;"
   ]
  },
  {
   "cell_type": "code",
   "execution_count": 54,
   "metadata": {},
   "outputs": [
    {
     "name": "stdout",
     "output_type": "stream",
     "text": [
      "false\n",
      "Não foi possível identificar o usuário.\n"
     ]
    }
   ],
   "source": [
    "// && verifica se os dois valores são verdadeiros\n",
    "\n",
    "nome = \"Maria\";\n",
    "\n",
    "console.log(nome == \"João\" && idadeUsuario == 25);\n",
    "\n",
    "if (nome == \"João\" && idadeUsuario == 25) {\n",
    "    console.log(`Olá, ${nome}! Você tem ${idadeUsuario} anos.`);\n",
    "} else {\n",
    "    console.log(\"Não foi possível identificar o usuário.\");\n",
    "}\n",
    "\n",
    "// Exemplo caso não houvesse o &&\n",
    "if (nome == \"João\") {\n",
    "    if (idadeUsuario == 25){\n",
    "        console.log(`Olá, ${nome}! Você tem ${idadeUsuario} anos.`);\n",
    "    }\n",
    "} else {\n",
    "    console.log(\"Não foi possível identificar o usuário.\");\n",
    "}\n"
   ]
  },
  {
   "attachments": {},
   "cell_type": "markdown",
   "metadata": {},
   "source": [
    "Exemplo de operador lógico ||  (OU lógico) "
   ]
  },
  {
   "cell_type": "code",
   "execution_count": 15,
   "metadata": {},
   "outputs": [],
   "source": [
    "let cargo = \"gerente\";\n",
    "let departamento = \"vendas\"; "
   ]
  },
  {
   "cell_type": "code",
   "execution_count": 58,
   "metadata": {},
   "outputs": [
    {
     "name": "stdout",
     "output_type": "stream",
     "text": [
      "Você possui acesso ao sistema de gerenciamento de vendas.\n"
     ]
    }
   ],
   "source": [
    "// Verifica se a pessoa é gerente OU se trabalha no departamento de vendas\n",
    "if (cargo === \"gerente\" || departamento === \"vendas\") {\n",
    "    console.log(\"Você possui acesso ao sistema de gerenciamento de vendas.\");\n",
    "} else {\n",
    "    console.log(\"Desculpe, você não possui acesso ao sistema de gerenciamento de vendas.\");\n",
    "}   "
   ]
  },
  {
   "attachments": {},
   "cell_type": "markdown",
   "metadata": {},
   "source": [
    "Exemplo de operador lógico !  (NÃO lógico)"
   ]
  },
  {
   "cell_type": "code",
   "execution_count": 17,
   "metadata": {},
   "outputs": [],
   "source": [
    "let isLogged = true;"
   ]
  },
  {
   "cell_type": "code",
   "execution_count": 70,
   "metadata": {},
   "outputs": [
    {
     "name": "stdout",
     "output_type": "stream",
     "text": [
      "Usuário não é administrador.\n",
      "true\n",
      "false\n"
     ]
    }
   ],
   "source": [
    "// Verifica se o usuário não está logado\n",
    "\n",
    "\n",
    "\n",
    "usuarioAdmin = true;\n",
    "\n",
    "if(!usuarioAdmin) {\n",
    "    console.log(\"Usuário é administrador.\");\n",
    "} else{\n",
    "    console.log(\"Usuário não é administrador.\");\n",
    "}\n",
    "console.log(usuarioAdmin);\n",
    "console.log(!usuarioAdmin);\n"
   ]
  },
  {
   "cell_type": "code",
   "execution_count": 26,
   "metadata": {},
   "outputs": [
    {
     "name": "stdout",
     "output_type": "stream",
     "text": [
      "false\n"
     ]
    }
   ],
   "source": [
    "console.log(3 == 'abc')"
   ]
  }
 ],
 "metadata": {
  "kernelspec": {
   "display_name": "JavaScript (Node.js)",
   "language": "javascript",
   "name": "javascript"
  },
  "language_info": {
   "file_extension": ".js",
   "mimetype": "application/javascript",
   "name": "javascript",
   "version": "20.2.0"
  },
  "orig_nbformat": 4
 },
 "nbformat": 4,
 "nbformat_minor": 2
}
